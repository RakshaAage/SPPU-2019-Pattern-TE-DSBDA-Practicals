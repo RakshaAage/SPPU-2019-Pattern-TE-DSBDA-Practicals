{
 "cells": [
  {
   "cell_type": "code",
   "execution_count": null,
   "id": "ad61c6e4-8d56-45a0-97b1-52dec1272c39",
   "metadata": {},
   "outputs": [],
   "source": [
    "Calculate Term Frequency and Inverse Document Frequency. Considering\n",
    "sentences of documents."
   ]
  },
  {
   "cell_type": "code",
   "execution_count": 4,
   "id": "e93aec6d-55d2-4a11-be77-54425b298ffc",
   "metadata": {},
   "outputs": [
    {
     "name": "stdout",
     "output_type": "stream",
     "text": [
      "Document 1:\n",
      "TF: {'natural': 0.08333333333333333, 'language': 0.08333333333333333, 'processing': 0.08333333333333333, '(': 0.08333333333333333, 'nlp': 0.08333333333333333, ')': 0.08333333333333333, 'is': 0.08333333333333333, 'a': 0.08333333333333333, 'subfield': 0.08333333333333333, 'of': 0.08333333333333333, 'linguistics': 0.08333333333333333, '.': 0.08333333333333333}\n",
      "IDF: {'natural': 1.3862943611198906, 'language': 0.28768207245178085, 'processing': 1.3862943611198906, '(': 1.3862943611198906, 'nlp': 0.0, ')': 1.3862943611198906, 'is': 1.3862943611198906, 'a': 1.3862943611198906, 'subfield': 1.3862943611198906, 'of': 0.6931471805599453, 'linguistics': 1.3862943611198906, '.': 0.0}\n",
      "TF-IDF: {'natural': 0.11552453009332421, 'language': 0.023973506037648404, 'processing': 0.11552453009332421, '(': 0.11552453009332421, 'nlp': 0.0, ')': 0.11552453009332421, 'is': 0.11552453009332421, 'a': 0.11552453009332421, 'subfield': 0.11552453009332421, 'of': 0.057762265046662105, 'linguistics': 0.11552453009332421, '.': 0.0}\n",
      "\n",
      "Document 2:\n",
      "TF: {'computer': 0.1, 'science': 0.1, 'and': 0.1, 'artificial': 0.1, 'intelligence': 0.1, 'are': 0.1, 'concerned': 0.1, 'with': 0.1, 'nlp': 0.1, '.': 0.1}\n",
      "IDF: {'computer': 1.3862943611198906, 'science': 1.3862943611198906, 'and': 0.28768207245178085, 'artificial': 1.3862943611198906, 'intelligence': 1.3862943611198906, 'are': 1.3862943611198906, 'concerned': 1.3862943611198906, 'with': 1.3862943611198906, 'nlp': 0.0, '.': 0.0}\n",
      "TF-IDF: {'computer': 0.13862943611198905, 'science': 0.13862943611198905, 'and': 0.028768207245178087, 'artificial': 0.13862943611198905, 'intelligence': 0.13862943611198905, 'are': 0.13862943611198905, 'concerned': 0.13862943611198905, 'with': 0.13862943611198905, 'nlp': 0.0, '.': 0.0}\n",
      "\n",
      "Document 3:\n",
      "TF: {'nlp': 0.1, 'involves': 0.1, 'the': 0.1, 'interaction': 0.1, 'between': 0.1, 'computers': 0.1, 'and': 0.1, 'human': 0.1, 'language': 0.1, '.': 0.1}\n",
      "IDF: {'nlp': 0.0, 'involves': 1.3862943611198906, 'the': 1.3862943611198906, 'interaction': 1.3862943611198906, 'between': 1.3862943611198906, 'computers': 0.6931471805599453, 'and': 0.28768207245178085, 'human': 1.3862943611198906, 'language': 0.28768207245178085, '.': 0.0}\n",
      "TF-IDF: {'nlp': 0.0, 'involves': 0.13862943611198905, 'the': 0.13862943611198905, 'interaction': 0.13862943611198905, 'between': 0.13862943611198905, 'computers': 0.06931471805599453, 'and': 0.028768207245178087, 'human': 0.13862943611198905, 'language': 0.028768207245178087, '.': 0.0}\n",
      "\n",
      "Document 4:\n",
      "TF: {'nlp': 0.08333333333333333, 'helps': 0.08333333333333333, 'computers': 0.08333333333333333, 'process': 0.08333333333333333, 'and': 0.08333333333333333, 'analyze': 0.08333333333333333, 'large': 0.08333333333333333, 'amounts': 0.08333333333333333, 'of': 0.08333333333333333, 'language': 0.08333333333333333, 'data': 0.08333333333333333, '.': 0.08333333333333333}\n",
      "IDF: {'nlp': 0.0, 'helps': 1.3862943611198906, 'computers': 0.6931471805599453, 'process': 1.3862943611198906, 'and': 0.28768207245178085, 'analyze': 1.3862943611198906, 'large': 1.3862943611198906, 'amounts': 1.3862943611198906, 'of': 0.6931471805599453, 'language': 0.28768207245178085, 'data': 1.3862943611198906, '.': 0.0}\n",
      "TF-IDF: {'nlp': 0.0, 'helps': 0.11552453009332421, 'computers': 0.057762265046662105, 'process': 0.11552453009332421, 'and': 0.023973506037648404, 'analyze': 0.11552453009332421, 'large': 0.11552453009332421, 'amounts': 0.11552453009332421, 'of': 0.057762265046662105, 'language': 0.023973506037648404, 'data': 0.11552453009332421, '.': 0.0}\n",
      "\n"
     ]
    }
   ],
   "source": [
    "import nltk\n",
    "from collections import Counter\n",
    "import math\n",
    "\n",
    "# Sample sentences (documents)\n",
    "documents = [\n",
    "    \"Natural language processing (NLP) is a subfield of linguistics.\",\n",
    "    \"Computer science and artificial intelligence are concerned with NLP.\",\n",
    "    \"NLP involves the interaction between computers and human language.\",\n",
    "    \"NLP helps computers process and analyze large amounts of language data.\"\n",
    "]\n",
    "\n",
    "# Step 1: Tokenize sentences into words\n",
    "tokenized_documents = [nltk.word_tokenize(sentence.lower()) for sentence in documents]\n",
    "\n",
    "# Step 2: Compute Term Frequency (TF) for each word in each document\n",
    "tf_documents = [{word: count/len(doc) for word, count in Counter(doc).items()} for doc in tokenized_documents]\n",
    "\n",
    "# Step 3: Compute Inverse Document Frequency (IDF) for each word\n",
    "idf = {word: math.log(len(tokenized_documents) / sum(1 for doc in tokenized_documents if word in doc)) for doc in tokenized_documents for word in set(doc)}\n",
    "\n",
    "# Step 4: Calculate TF-IDF\n",
    "tfidf_documents = [{word: tf * idf[word] for word, tf in tf_doc.items()} for tf_doc in tf_documents]\n",
    "\n",
    "# Print TF, IDF, and TF-IDF for each document\n",
    "for i, (doc, tf_doc, tfidf_doc) in enumerate(zip(tokenized_documents, tf_documents, tfidf_documents), 1):\n",
    "    print(f\"Document {i}:\")\n",
    "    print(\"TF:\", tf_doc)\n",
    "    print(\"IDF:\", {word: idf[word] for word in tf_doc.keys()})\n",
    "    print(\"TF-IDF:\", tfidf_doc)\n",
    "    print()\n"
   ]
  },
  {
   "cell_type": "code",
   "execution_count": null,
   "id": "28a74237-4e42-40e4-8294-59e2fdb71218",
   "metadata": {},
   "outputs": [],
   "source": []
  }
 ],
 "metadata": {
  "kernelspec": {
   "display_name": "Python 3 (ipykernel)",
   "language": "python",
   "name": "python3"
  },
  "language_info": {
   "codemirror_mode": {
    "name": "ipython",
    "version": 3
   },
   "file_extension": ".py",
   "mimetype": "text/x-python",
   "name": "python",
   "nbconvert_exporter": "python",
   "pygments_lexer": "ipython3",
   "version": "3.12.3"
  }
 },
 "nbformat": 4,
 "nbformat_minor": 5
}
